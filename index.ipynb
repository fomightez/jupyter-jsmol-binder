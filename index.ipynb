{
 "cells": [
  {
   "cell_type": "markdown",
   "metadata": {},
   "source": [
    "## Jmol Jsmol applets working in Jupyter notebooks\n",
    "\n"
   ]
  },
  {
   "cell_type": "markdown",
   "metadata": {},
   "source": [
    "### Amazing jupyter-jsmol\n",
    "\n",
    "\n",
    "Searching 'jsmol jupyter notebook' to hopefully find source of simple applet I had tried in notebook, I saw:\n",
    "\n",
    "https://pypi.org/project/jupyter-jsmol/\n",
    "\n",
    "Under Project Links on the right, is a link to the 'Homepage'\n",
    "which takes you to:\n",
    "https://github.com/fekad/jupyter-jsmol\n",
    "\n",
    "And it has a `launch binder` badge that launched where it seems to work!!! Fairly recent commits from 4 months ago when I found it January 2021\n",
    "\n",
    "Eventually the next cell should be most of what is needed to make this work in any modern Binder launched session but for some reason not working right now?!?! (It seems I have everything installed and I even tried enabling the extension which shouldn't be necessary. Maybe the Jmol javascript has to be somewhere special?!??) So run this part of notebook in sessions launched from [here](https://github.com/fekad/jupyter-jsmol)."
   ]
  },
  {
   "cell_type": "code",
   "execution_count": null,
   "metadata": {},
   "outputs": [],
   "source": [
    "#%pip install ipywidgets\n",
    "#%pip install jupyter_jsmol"
   ]
  },
  {
   "cell_type": "code",
   "execution_count": null,
   "metadata": {},
   "outputs": [],
   "source": [
    "from jupyter_jsmol import JsmolView\n",
    "from ipywidgets import Layout, widgets, interact"
   ]
  },
  {
   "cell_type": "code",
   "execution_count": null,
   "metadata": {},
   "outputs": [],
   "source": [
    "!curl -OL https://raw.githubusercontent.com/fekad/jupyter-jsmol/master/examples/data/c2h410.xyz"
   ]
  },
  {
   "cell_type": "code",
   "execution_count": null,
   "metadata": {},
   "outputs": [],
   "source": [
    "view1 = JsmolView.from_file(\"c2h410.xyz\") \n",
    "# view1 = JsmolView.from_file(\"data/c2h410.xyz\", inline=False) \n",
    "view1"
   ]
  },
  {
   "cell_type": "code",
   "execution_count": null,
   "metadata": {},
   "outputs": [],
   "source": [
    "view1 = JsmolView.from_file(\"c2h410.xyz\", inline=False) "
   ]
  },
  {
   "cell_type": "code",
   "execution_count": null,
   "metadata": {},
   "outputs": [],
   "source": []
  }
 ],
 "metadata": {
  "kernelspec": {
   "display_name": "Python 3",
   "language": "python",
   "name": "python3"
  },
  "language_info": {
   "codemirror_mode": {
    "name": "ipython",
    "version": 3
   },
   "file_extension": ".py",
   "mimetype": "text/x-python",
   "name": "python",
   "nbconvert_exporter": "python",
   "pygments_lexer": "ipython3",
   "version": "3.7.8"
  }
 },
 "nbformat": 4,
 "nbformat_minor": 4
}
